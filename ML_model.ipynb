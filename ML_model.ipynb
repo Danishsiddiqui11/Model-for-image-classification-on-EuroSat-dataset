{
  "nbformat": 4,
  "nbformat_minor": 0,
  "metadata": {
    "colab": {
      "provenance": [],
      "mount_file_id": "1iLBDTBsffhqIKWaRGlRq_0BVuQQ6zR-4",
      "authorship_tag": "ABX9TyNn8OXxnSHgxNkXK1QcOAvs",
      "include_colab_link": true
    },
    "kernelspec": {
      "name": "python3",
      "display_name": "Python 3"
    },
    "language_info": {
      "name": "python"
    },
    "accelerator": "GPU",
    "gpuClass": "standard"
  },
  "cells": [
    {
      "cell_type": "markdown",
      "metadata": {
        "id": "view-in-github",
        "colab_type": "text"
      },
      "source": [
        "<a href=\"https://colab.research.google.com/github/Danishsiddiqui11/Model-for-image-classification-on-EuroSat-dataset/blob/main/ML_model.ipynb\" target=\"_parent\"><img src=\"https://colab.research.google.com/assets/colab-badge.svg\" alt=\"Open In Colab\"/></a>"
      ]
    },
    {
      "cell_type": "code",
      "execution_count": 2,
      "metadata": {
        "id": "xbxsoJyLWkTW"
      },
      "outputs": [],
      "source": [
        "#Importing necessary libraries \n",
        "from tensorflow import keras\n",
        "import numpy as np\n",
        "import pandas as pd\n",
        "from keras.applications import resnet\n",
        "from keras import models\n",
        "from keras import layers\n",
        "from keras import optimizers\n",
        "import cv2\n",
        "from sklearn.metrics import classification_report, confusion_matrix\n",
        "import matplotlib.pyplot as plt\n",
        "import os\n",
        "from matplotlib import pyplot as plt\n",
        "import numpy as np\n",
        "from PIL import Image\n",
        "from keras.callbacks import ModelCheckpoint"
      ]
    },
    {
      "cell_type": "code",
      "source": [
        "# Load the ResNet50 model\n",
        "resnet_model = resnet.ResNet50(weights='imagenet', include_top=False, input_shape=(64, 64, 3))"
      ],
      "metadata": {
        "colab": {
          "base_uri": "https://localhost:8080/"
        },
        "id": "SA8PgepKXfTB",
        "outputId": "f47f21be-9b11-4b49-d7cf-692e27fac8f4"
      },
      "execution_count": 3,
      "outputs": [
        {
          "output_type": "stream",
          "name": "stdout",
          "text": [
            "Downloading data from https://storage.googleapis.com/tensorflow/keras-applications/resnet/resnet50_weights_tf_dim_ordering_tf_kernels_notop.h5\n",
            "94765736/94765736 [==============================] - 3s 0us/step\n"
          ]
        }
      ]
    },
    {
      "cell_type": "code",
      "source": [
        "# checking the trainable status of the individual layers\n",
        "for layer in resnet_model.layers:\n",
        "    print(layer, layer.trainable)"
      ],
      "metadata": {
        "colab": {
          "base_uri": "https://localhost:8080/"
        },
        "id": "7ZVP0U83aWL1",
        "outputId": "97784833-5c12-40a2-bcaa-b08c1cf757dd"
      },
      "execution_count": 4,
      "outputs": [
        {
          "output_type": "stream",
          "name": "stdout",
          "text": [
            "<keras.engine.input_layer.InputLayer object at 0x7ff1749ab5e0> True\n",
            "<keras.layers.reshaping.zero_padding2d.ZeroPadding2D object at 0x7ff0e4c4f070> True\n",
            "<keras.layers.convolutional.conv2d.Conv2D object at 0x7ff0e4c4f580> True\n",
            "<keras.layers.normalization.batch_normalization.BatchNormalization object at 0x7ff0e44363d0> True\n",
            "<keras.layers.core.activation.Activation object at 0x7ff0e4436af0> True\n",
            "<keras.layers.reshaping.zero_padding2d.ZeroPadding2D object at 0x7ff0e43f6b80> True\n",
            "<keras.layers.pooling.max_pooling2d.MaxPooling2D object at 0x7ff0e41482b0> True\n",
            "<keras.layers.convolutional.conv2d.Conv2D object at 0x7ff0e40d17f0> True\n",
            "<keras.layers.normalization.batch_normalization.BatchNormalization object at 0x7ff0e40d78b0> True\n",
            "<keras.layers.core.activation.Activation object at 0x7ff0e40d7040> True\n",
            "<keras.layers.convolutional.conv2d.Conv2D object at 0x7ff0e40d8400> True\n",
            "<keras.layers.normalization.batch_normalization.BatchNormalization object at 0x7ff0e40e8e80> True\n",
            "<keras.layers.core.activation.Activation object at 0x7ff0e40e8130> True\n",
            "<keras.layers.convolutional.conv2d.Conv2D object at 0x7ff0e4148d00> True\n",
            "<keras.layers.convolutional.conv2d.Conv2D object at 0x7ff0e40dd820> True\n",
            "<keras.layers.normalization.batch_normalization.BatchNormalization object at 0x7ff0e41484c0> True\n",
            "<keras.layers.normalization.batch_normalization.BatchNormalization object at 0x7ff0e4436c40> True\n",
            "<keras.layers.merging.add.Add object at 0x7ff0e4436e50> True\n",
            "<keras.layers.core.activation.Activation object at 0x7ff0e40ef610> True\n",
            "<keras.layers.convolutional.conv2d.Conv2D object at 0x7ff0e40f3ee0> True\n",
            "<keras.layers.normalization.batch_normalization.BatchNormalization object at 0x7ff0e40f3e20> True\n",
            "<keras.layers.core.activation.Activation object at 0x7ff0e40f3760> True\n",
            "<keras.layers.convolutional.conv2d.Conv2D object at 0x7ff0e40fe1c0> True\n",
            "<keras.layers.normalization.batch_normalization.BatchNormalization object at 0x7ff0e40fe910> True\n",
            "<keras.layers.core.activation.Activation object at 0x7ff0e4101310> True\n",
            "<keras.layers.convolutional.conv2d.Conv2D object at 0x7ff0e4103400> True\n",
            "<keras.layers.normalization.batch_normalization.BatchNormalization object at 0x7ff0e408d7c0> True\n",
            "<keras.layers.merging.add.Add object at 0x7ff0e408d580> True\n",
            "<keras.layers.core.activation.Activation object at 0x7ff0e4096760> True\n",
            "<keras.layers.convolutional.conv2d.Conv2D object at 0x7ff0e409cac0> True\n",
            "<keras.layers.normalization.batch_normalization.BatchNormalization object at 0x7ff0e409c580> True\n",
            "<keras.layers.core.activation.Activation object at 0x7ff0e40a33a0> True\n",
            "<keras.layers.convolutional.conv2d.Conv2D object at 0x7ff0e40a8490> True\n",
            "<keras.layers.normalization.batch_normalization.BatchNormalization object at 0x7ff0e40a3b80> True\n",
            "<keras.layers.core.activation.Activation object at 0x7ff0e40ada00> True\n",
            "<keras.layers.convolutional.conv2d.Conv2D object at 0x7ff0e40b55b0> True\n",
            "<keras.layers.normalization.batch_normalization.BatchNormalization object at 0x7ff0e40add00> True\n",
            "<keras.layers.merging.add.Add object at 0x7ff0e40b5760> True\n",
            "<keras.layers.core.activation.Activation object at 0x7ff0e40bb0d0> True\n",
            "<keras.layers.convolutional.conv2d.Conv2D object at 0x7ff0e4052190> True\n",
            "<keras.layers.normalization.batch_normalization.BatchNormalization object at 0x7ff0e40520d0> True\n",
            "<keras.layers.core.activation.Activation object at 0x7ff0e4096160> True\n",
            "<keras.layers.convolutional.conv2d.Conv2D object at 0x7ff0e405ea60> True\n",
            "<keras.layers.normalization.batch_normalization.BatchNormalization object at 0x7ff0e40b81c0> True\n",
            "<keras.layers.core.activation.Activation object at 0x7ff0e405ea30> True\n",
            "<keras.layers.convolutional.conv2d.Conv2D object at 0x7ff0e4096820> True\n",
            "<keras.layers.convolutional.conv2d.Conv2D object at 0x7ff0e406c400> True\n",
            "<keras.layers.normalization.batch_normalization.BatchNormalization object at 0x7ff0e40c5850> True\n",
            "<keras.layers.normalization.batch_normalization.BatchNormalization object at 0x7ff0e406cee0> True\n",
            "<keras.layers.merging.add.Add object at 0x7ff0e4063310> True\n",
            "<keras.layers.core.activation.Activation object at 0x7ff0e4076ca0> True\n",
            "<keras.layers.convolutional.conv2d.Conv2D object at 0x7ff0e4063580> True\n",
            "<keras.layers.normalization.batch_normalization.BatchNormalization object at 0x7ff0e406fb50> True\n",
            "<keras.layers.core.activation.Activation object at 0x7ff0e409ce20> True\n",
            "<keras.layers.convolutional.conv2d.Conv2D object at 0x7ff0e40b5e80> True\n",
            "<keras.layers.normalization.batch_normalization.BatchNormalization object at 0x7ff0e40bd6a0> True\n",
            "<keras.layers.core.activation.Activation object at 0x7ff0e40f3fd0> True\n",
            "<keras.layers.convolutional.conv2d.Conv2D object at 0x7ff0e407a760> True\n",
            "<keras.layers.normalization.batch_normalization.BatchNormalization object at 0x7ff0e406cd30> True\n",
            "<keras.layers.merging.add.Add object at 0x7ff0e407b640> True\n",
            "<keras.layers.core.activation.Activation object at 0x7ff0e407b970> True\n",
            "<keras.layers.convolutional.conv2d.Conv2D object at 0x7ff0e4087280> True\n",
            "<keras.layers.normalization.batch_normalization.BatchNormalization object at 0x7ff0e4087d60> True\n",
            "<keras.layers.core.activation.Activation object at 0x7ff0e40875b0> True\n",
            "<keras.layers.convolutional.conv2d.Conv2D object at 0x7ff0e4088fa0> True\n",
            "<keras.layers.normalization.batch_normalization.BatchNormalization object at 0x7ff0e400dc70> True\n",
            "<keras.layers.core.activation.Activation object at 0x7ff0e4016af0> True\n",
            "<keras.layers.convolutional.conv2d.Conv2D object at 0x7ff0e401d730> True\n",
            "<keras.layers.normalization.batch_normalization.BatchNormalization object at 0x7ff0e4022280> True\n",
            "<keras.layers.merging.add.Add object at 0x7ff0e4016490> True\n",
            "<keras.layers.core.activation.Activation object at 0x7ff0e4028a90> True\n",
            "<keras.layers.convolutional.conv2d.Conv2D object at 0x7ff0e40339d0> True\n",
            "<keras.layers.normalization.batch_normalization.BatchNormalization object at 0x7ff0e4038f10> True\n",
            "<keras.layers.core.activation.Activation object at 0x7ff0e40385e0> True\n",
            "<keras.layers.convolutional.conv2d.Conv2D object at 0x7ff0e403d7c0> True\n",
            "<keras.layers.normalization.batch_normalization.BatchNormalization object at 0x7ff0e4043250> True\n",
            "<keras.layers.core.activation.Activation object at 0x7ff0e4043610> True\n",
            "<keras.layers.convolutional.conv2d.Conv2D object at 0x7ff0e404ba30> True\n",
            "<keras.layers.normalization.batch_normalization.BatchNormalization object at 0x7ff0bc8e3c40> True\n",
            "<keras.layers.merging.add.Add object at 0x7ff0bc8e0970> True\n",
            "<keras.layers.core.activation.Activation object at 0x7ff0e404b970> True\n",
            "<keras.layers.convolutional.conv2d.Conv2D object at 0x7ff0bc8f24f0> True\n",
            "<keras.layers.normalization.batch_normalization.BatchNormalization object at 0x7ff0bc900af0> True\n",
            "<keras.layers.core.activation.Activation object at 0x7ff0bc8ecee0> True\n",
            "<keras.layers.convolutional.conv2d.Conv2D object at 0x7ff0bc904670> True\n",
            "<keras.layers.normalization.batch_normalization.BatchNormalization object at 0x7ff0bc90bac0> True\n",
            "<keras.layers.core.activation.Activation object at 0x7ff0bc90b760> True\n",
            "<keras.layers.convolutional.conv2d.Conv2D object at 0x7ff0bc8f2250> True\n",
            "<keras.layers.convolutional.conv2d.Conv2D object at 0x7ff0bc8ec9d0> True\n",
            "<keras.layers.normalization.batch_normalization.BatchNormalization object at 0x7ff0bc8f2e50> True\n",
            "<keras.layers.normalization.batch_normalization.BatchNormalization object at 0x7ff0e4033e80> True\n",
            "<keras.layers.merging.add.Add object at 0x7ff0e403d0d0> True\n",
            "<keras.layers.core.activation.Activation object at 0x7ff0e4028be0> True\n",
            "<keras.layers.convolutional.conv2d.Conv2D object at 0x7ff0e407b520> True\n",
            "<keras.layers.normalization.batch_normalization.BatchNormalization object at 0x7ff0e4087250> True\n",
            "<keras.layers.core.activation.Activation object at 0x7ff0e4050730> True\n",
            "<keras.layers.convolutional.conv2d.Conv2D object at 0x7ff0e40b8cd0> True\n",
            "<keras.layers.normalization.batch_normalization.BatchNormalization object at 0x7ff0e40fe040> True\n",
            "<keras.layers.core.activation.Activation object at 0x7ff0bc919f40> True\n",
            "<keras.layers.convolutional.conv2d.Conv2D object at 0x7ff0bc89e3d0> True\n",
            "<keras.layers.normalization.batch_normalization.BatchNormalization object at 0x7ff0bc89f700> True\n",
            "<keras.layers.merging.add.Add object at 0x7ff0bc89e550> True\n",
            "<keras.layers.core.activation.Activation object at 0x7ff0bc8a2bb0> True\n",
            "<keras.layers.convolutional.conv2d.Conv2D object at 0x7ff0bc8a3400> True\n",
            "<keras.layers.normalization.batch_normalization.BatchNormalization object at 0x7ff0bc8a3e80> True\n",
            "<keras.layers.core.activation.Activation object at 0x7ff0bc919a30> True\n",
            "<keras.layers.convolutional.conv2d.Conv2D object at 0x7ff0bc8af9a0> True\n",
            "<keras.layers.normalization.batch_normalization.BatchNormalization object at 0x7ff0bc8afd30> True\n",
            "<keras.layers.core.activation.Activation object at 0x7ff0bc8a2ac0> True\n",
            "<keras.layers.convolutional.conv2d.Conv2D object at 0x7ff0bc8b9ac0> True\n",
            "<keras.layers.normalization.batch_normalization.BatchNormalization object at 0x7ff0bc8b9e50> True\n",
            "<keras.layers.merging.add.Add object at 0x7ff0bc8b2910> True\n",
            "<keras.layers.core.activation.Activation object at 0x7ff0bc8c5b80> True\n",
            "<keras.layers.convolutional.conv2d.Conv2D object at 0x7ff0bc8c51c0> True\n",
            "<keras.layers.normalization.batch_normalization.BatchNormalization object at 0x7ff0bc8b26a0> True\n",
            "<keras.layers.core.activation.Activation object at 0x7ff0bc8d0880> True\n",
            "<keras.layers.convolutional.conv2d.Conv2D object at 0x7ff0bc8d08e0> True\n",
            "<keras.layers.normalization.batch_normalization.BatchNormalization object at 0x7ff0bc8bd970> True\n",
            "<keras.layers.core.activation.Activation object at 0x7ff0bc8dadf0> True\n",
            "<keras.layers.convolutional.conv2d.Conv2D object at 0x7ff0bc8da310> True\n",
            "<keras.layers.normalization.batch_normalization.BatchNormalization object at 0x7ff0bc865be0> True\n",
            "<keras.layers.merging.add.Add object at 0x7ff0bc8da520> True\n",
            "<keras.layers.core.activation.Activation object at 0x7ff0bc86f6a0> True\n",
            "<keras.layers.convolutional.conv2d.Conv2D object at 0x7ff0bc8773a0> True\n",
            "<keras.layers.normalization.batch_normalization.BatchNormalization object at 0x7ff0bc877a60> True\n",
            "<keras.layers.core.activation.Activation object at 0x7ff0bc87d6d0> True\n",
            "<keras.layers.convolutional.conv2d.Conv2D object at 0x7ff0bc86f220> True\n",
            "<keras.layers.normalization.batch_normalization.BatchNormalization object at 0x7ff0bc8daca0> True\n",
            "<keras.layers.core.activation.Activation object at 0x7ff0bc8d02b0> True\n",
            "<keras.layers.convolutional.conv2d.Conv2D object at 0x7ff0bc8b98e0> True\n",
            "<keras.layers.normalization.batch_normalization.BatchNormalization object at 0x7ff0bc8a3820> True\n",
            "<keras.layers.merging.add.Add object at 0x7ff0bc8a2130> True\n",
            "<keras.layers.core.activation.Activation object at 0x7ff0bc8d6b80> True\n",
            "<keras.layers.convolutional.conv2d.Conv2D object at 0x7ff0bc888370> True\n",
            "<keras.layers.normalization.batch_normalization.BatchNormalization object at 0x7ff0bc888df0> True\n",
            "<keras.layers.core.activation.Activation object at 0x7ff0bc8884f0> True\n",
            "<keras.layers.convolutional.conv2d.Conv2D object at 0x7ff0bc8dac10> True\n",
            "<keras.layers.normalization.batch_normalization.BatchNormalization object at 0x7ff0bc88f940> True\n",
            "<keras.layers.core.activation.Activation object at 0x7ff0bc88ff70> True\n",
            "<keras.layers.convolutional.conv2d.Conv2D object at 0x7ff0bc8967f0> True\n",
            "<keras.layers.normalization.batch_normalization.BatchNormalization object at 0x7ff0bc89a340> True\n",
            "<keras.layers.merging.add.Add object at 0x7ff0bc88f520> True\n",
            "<keras.layers.core.activation.Activation object at 0x7ff0bc821c70> True\n",
            "<keras.layers.convolutional.conv2d.Conv2D object at 0x7ff0bc830250> True\n",
            "<keras.layers.normalization.batch_normalization.BatchNormalization object at 0x7ff0bc8b9310> True\n",
            "<keras.layers.core.activation.Activation object at 0x7ff0bc83b5b0> True\n",
            "<keras.layers.convolutional.conv2d.Conv2D object at 0x7ff0bc83b760> True\n",
            "<keras.layers.normalization.batch_normalization.BatchNormalization object at 0x7ff0bc841b20> True\n",
            "<keras.layers.core.activation.Activation object at 0x7ff0bc847820> True\n",
            "<keras.layers.convolutional.conv2d.Conv2D object at 0x7ff0bc829a00> True\n",
            "<keras.layers.convolutional.conv2d.Conv2D object at 0x7ff0bc8475b0> True\n",
            "<keras.layers.normalization.batch_normalization.BatchNormalization object at 0x7ff0bc830640> True\n",
            "<keras.layers.normalization.batch_normalization.BatchNormalization object at 0x7ff0bc8514c0> True\n",
            "<keras.layers.merging.add.Add object at 0x7ff0bc847700> True\n",
            "<keras.layers.core.activation.Activation object at 0x7ff0bc858c10> True\n",
            "<keras.layers.convolutional.conv2d.Conv2D object at 0x7ff0bc834220> True\n",
            "<keras.layers.normalization.batch_normalization.BatchNormalization object at 0x7ff0bc7e6e50> True\n",
            "<keras.layers.core.activation.Activation object at 0x7ff0bc7e6b50> True\n",
            "<keras.layers.convolutional.conv2d.Conv2D object at 0x7ff0bc7e6eb0> True\n",
            "<keras.layers.normalization.batch_normalization.BatchNormalization object at 0x7ff0bc7ee970> True\n",
            "<keras.layers.core.activation.Activation object at 0x7ff0bc7f6670> True\n",
            "<keras.layers.convolutional.conv2d.Conv2D object at 0x7ff0bc858340> True\n",
            "<keras.layers.normalization.batch_normalization.BatchNormalization object at 0x7ff0bc8003d0> True\n",
            "<keras.layers.merging.add.Add object at 0x7ff0bc808af0> True\n",
            "<keras.layers.core.activation.Activation object at 0x7ff0bc808d60> True\n",
            "<keras.layers.convolutional.conv2d.Conv2D object at 0x7ff0bc800130> True\n",
            "<keras.layers.normalization.batch_normalization.BatchNormalization object at 0x7ff0bc7ee760> True\n",
            "<keras.layers.core.activation.Activation object at 0x7ff0bc851160> True\n",
            "<keras.layers.convolutional.conv2d.Conv2D object at 0x7ff0bc851370> True\n",
            "<keras.layers.normalization.batch_normalization.BatchNormalization object at 0x7ff0bc834400> True\n",
            "<keras.layers.core.activation.Activation object at 0x7ff0bc829490> True\n",
            "<keras.layers.convolutional.conv2d.Conv2D object at 0x7ff0bc829550> True\n",
            "<keras.layers.normalization.batch_normalization.BatchNormalization object at 0x7ff0bc7e0520> True\n",
            "<keras.layers.merging.add.Add object at 0x7ff0bc829610> True\n",
            "<keras.layers.core.activation.Activation object at 0x7ff0bc8a39d0> True\n"
          ]
        }
      ]
    },
    {
      "cell_type": "code",
      "source": [
        "# Adding classifier on top of Convolution model\n",
        "# create model \n",
        "model = models.Sequential()"
      ],
      "metadata": {
        "id": "cVtaEXwGachi"
      },
      "execution_count": 5,
      "outputs": []
    },
    {
      "cell_type": "code",
      "source": [
        "# Add the resnet50 convolutional model\n",
        "model.add(resnet_model)\n",
        "\n",
        "# Adding new Layers\n",
        "model.add(layers.Flatten())\n",
        "model.add(layers.Dense(1024, activation='relu'))\n",
        "model.add(layers.Dropout(0.5))\n",
        "model.add(layers.Dense(10, activation='softmax'))"
      ],
      "metadata": {
        "id": "KLHtf7scaek6"
      },
      "execution_count": 6,
      "outputs": []
    },
    {
      "cell_type": "code",
      "source": [
        "# summary of model\n",
        "model.summary()"
      ],
      "metadata": {
        "colab": {
          "base_uri": "https://localhost:8080/"
        },
        "id": "NaQakC1ranpI",
        "outputId": "67e5c6b3-db47-4b50-e222-6dfba74cb8fe"
      },
      "execution_count": 7,
      "outputs": [
        {
          "output_type": "stream",
          "name": "stdout",
          "text": [
            "Model: \"sequential\"\n",
            "_________________________________________________________________\n",
            " Layer (type)                Output Shape              Param #   \n",
            "=================================================================\n",
            " resnet50 (Functional)       (None, 2, 2, 2048)        23587712  \n",
            "                                                                 \n",
            " flatten (Flatten)           (None, 8192)              0         \n",
            "                                                                 \n",
            " dense (Dense)               (None, 1024)              8389632   \n",
            "                                                                 \n",
            " dropout (Dropout)           (None, 1024)              0         \n",
            "                                                                 \n",
            " dense_1 (Dense)             (None, 10)                10250     \n",
            "                                                                 \n",
            "=================================================================\n",
            "Total params: 31,987,594\n",
            "Trainable params: 31,934,474\n",
            "Non-trainable params: 53,120\n",
            "_________________________________________________________________\n"
          ]
        }
      ]
    },
    {
      "cell_type": "code",
      "source": [
        "dataset_url = r'/content/drive/MyDrive/EuroSat/2750'\n",
        "batch_size = 32\n",
        "img_height = 64\n",
        "img_width = 64\n",
        "validation_split=0.2\n",
        "rescale=1.0/255"
      ],
      "metadata": {
        "id": "tDdY2O-Liu4y"
      },
      "execution_count": 8,
      "outputs": []
    },
    {
      "cell_type": "code",
      "source": [
        "from keras.preprocessing.image import ImageDataGenerator\n",
        "datagen = ImageDataGenerator(rescale=1./255, validation_split=0.2)"
      ],
      "metadata": {
        "id": "zLHkKDlqllAV"
      },
      "execution_count": 9,
      "outputs": []
    },
    {
      "cell_type": "code",
      "source": [
        "# Fitting the CNN to the images(Image Augmentation, Image Preprocessing)\n",
        "#from keras.preprocessing.image import ImageDataGenerator\n",
        "train_datagen = ImageDataGenerator( \n",
        "        rescale=1./255,\n",
        "        shear_range=0.2,             \n",
        "        zoom_range=0.2,              \n",
        "        horizontal_flip=True,\n",
        "         validation_split=0.2)"
      ],
      "metadata": {
        "id": "JHjNcTAUaqJe"
      },
      "execution_count": 10,
      "outputs": []
    },
    {
      "cell_type": "code",
      "source": [
        "train_set = train_datagen.flow_from_directory(batch_size=batch_size,\n",
        "                                           directory=dataset_url,\n",
        "                                           shuffle=True,\n",
        "                                           target_size=(img_height, img_width),\n",
        "                                           subset=\"training\",\n",
        "                                           class_mode='categorical')"
      ],
      "metadata": {
        "colab": {
          "base_uri": "https://localhost:8080/"
        },
        "id": "pJ0R5Xy1l5ig",
        "outputId": "80b6fc81-0cbf-4d2e-f197-ad796fc28af1"
      },
      "execution_count": 11,
      "outputs": [
        {
          "output_type": "stream",
          "name": "stdout",
          "text": [
            "Found 21624 images belonging to 10 classes.\n"
          ]
        }
      ]
    },
    {
      "cell_type": "code",
      "source": [
        "#Normalizing the test set\n",
        "test_datagen = ImageDataGenerator(rescale=1./255, validation_split=0.2)"
      ],
      "metadata": {
        "id": "_H0sOUUZauJn"
      },
      "execution_count": 12,
      "outputs": []
    },
    {
      "cell_type": "code",
      "source": [
        "\n",
        "# test_set = test_datagen.flow_from_directory(\n",
        "#         'TestSet',\n",
        "#         target_size=(64,64),\n",
        "#         batch_size=32,\n",
        "#         class_mode='categorical', \n",
        "#         shuffle=False)\n"
      ],
      "metadata": {
        "id": "00wCJznOmCEs"
      },
      "execution_count": 13,
      "outputs": []
    },
    {
      "cell_type": "code",
      "source": [
        "test_set = test_datagen.flow_from_directory(batch_size=batch_size,\n",
        "                                           directory=dataset_url,\n",
        "                                           shuffle=False,\n",
        "                                           target_size=(img_height, img_width),\n",
        "                                           subset=\"validation\",\n",
        "                                           class_mode='categorical')"
      ],
      "metadata": {
        "colab": {
          "base_uri": "https://localhost:8080/"
        },
        "id": "1u9WXtBSnnyU",
        "outputId": "6affce8b-d115-4d36-fb33-dc094f2d101d"
      },
      "execution_count": 14,
      "outputs": [
        {
          "output_type": "stream",
          "name": "stdout",
          "text": [
            "Found 5406 images belonging to 10 classes.\n"
          ]
        }
      ]
    },
    {
      "cell_type": "code",
      "source": [
        "# setting the path to EuroSat Dataset\n",
        "# path = 'E:\\EuroSat\\2750'\n",
        "# os.chdir(path)"
      ],
      "metadata": {
        "id": "oftbaaRaaxd0"
      },
      "execution_count": 15,
      "outputs": []
    },
    {
      "cell_type": "code",
      "source": [
        "# lets dettermine dataset characteristics\n",
        "print('Training Data: ',train_set[0][0].shape)\n",
        "print('Test Data: ',test_set[0][0].shape)"
      ],
      "metadata": {
        "colab": {
          "base_uri": "https://localhost:8080/"
        },
        "id": "bYQMjjtpbSfz",
        "outputId": "dec4d4b2-216c-4901-c85c-ab708123a402"
      },
      "execution_count": 16,
      "outputs": [
        {
          "output_type": "stream",
          "name": "stdout",
          "text": [
            "Training Data:  (32, 64, 64, 3)\n",
            "Test Data:  (32, 64, 64, 3)\n"
          ]
        }
      ]
    },
    {
      "cell_type": "code",
      "source": [
        "# now shape of a single image\n",
        "print('Shape of single image:', train_set[0][0][0].shape)"
      ],
      "metadata": {
        "colab": {
          "base_uri": "https://localhost:8080/"
        },
        "id": "JqNBmNbro5yn",
        "outputId": "4310edf7-1954-4e32-fa74-2e18ba9bcead"
      },
      "execution_count": 17,
      "outputs": [
        {
          "output_type": "stream",
          "name": "stdout",
          "text": [
            "Shape of single image: (64, 64, 3)\n"
          ]
        }
      ]
    },
    {
      "cell_type": "code",
      "source": [
        "# create a grid of 3*3 images to visualize some of the imgaes in dataset\n",
        "for i in range(0, 9):\n",
        "    plt.subplot(330 + 1+ i)\n",
        "    img = train_set[0][0][i]\n",
        "    plt.imshow(img)\n",
        "    \n",
        "# show the plot\n",
        "plt.show()"
      ],
      "metadata": {
        "colab": {
          "base_uri": "https://localhost:8080/",
          "height": 269
        },
        "id": "1q5fKuFHpdGZ",
        "outputId": "0e7ef6d0-4eae-4ce8-ce0e-397e57e7394b"
      },
      "execution_count": 18,
      "outputs": [
        {
          "output_type": "display_data",
          "data": {
            "text/plain": [
              "<Figure size 432x288 with 9 Axes>"
            ],
            "image/png": "[encoded data removed]"
          },
          "metadata": {
            "needs_background": "light"
          }
        }
      ]
    },
    {
      "cell_type": "code",
      "source": [
        "# Compile the model\n",
        "model.compile(loss='categorical_crossentropy',\n",
        "              optimizer=optimizers.RMSprop(lr=1e-4),\n",
        "              metrics=['acc'])"
      ],
      "metadata": {
        "colab": {
          "base_uri": "https://localhost:8080/"
        },
        "id": "wKz0TBjRpv2G",
        "outputId": "823ab5a6-85f6-4988-9c7a-18451a910626"
      },
      "execution_count": 19,
      "outputs": [
        {
          "output_type": "stream",
          "name": "stderr",
          "text": [
            "/usr/local/lib/python3.9/dist-packages/keras/optimizers/optimizer_v2/rmsprop.py:143: UserWarning: The `lr` argument is deprecated, use `learning_rate` instead.\n",
            "  super().__init__(name, **kwargs)\n"
          ]
        }
      ]
    },
    {
      "cell_type": "code",
      "source": [
        "# checkpoint\n",
        "filepath=\"/content/drive/MyDrive/weights/weights.best.hdf5\"\n",
        "checkpoint = ModelCheckpoint(filepath, monitor='val_acc', verbose=1, save_best_only=True, mode='max')\n",
        "callbacks_list = [checkpoint]"
      ],
      "metadata": {
        "id": "lGIiLBx5pyaG"
      },
      "execution_count": 20,
      "outputs": []
    },
    {
      "cell_type": "code",
      "source": [
        "# Train the model\n",
        "history = model.fit(\n",
        "          train_set, \n",
        "         steps_per_epoch=(train_set.samples/32),\n",
        "         #steps_per_epoch=32,\n",
        "          epochs=5,\n",
        "          callbacks=callbacks_list,\n",
        "          validation_data=test_set,\n",
        "          validation_steps=(test_set.samples/32))\n",
        "          #validation_steps=32)"
      ],
      "metadata": {
        "colab": {
          "base_uri": "https://localhost:8080/"
        },
        "id": "xCFk3LYdqb4I",
        "outputId": "6e48f3d6-2747-4084-9b73-3dbd287b0ccc"
      },
      "execution_count": null,
      "outputs": [
        {
          "output_type": "stream",
          "name": "stdout",
          "text": [
            "Epoch 1/5\n",
            " 71/675 [==>...........................] - ETA: 1:56:35 - loss: 0.7033 - acc: 0.8046"
          ]
        }
      ]
    },
    {
      "cell_type": "code",
      "source": [
        "# Plotting the Loss and Classification Accuracy\n",
        "model.metrics_names\n",
        "print(history.history.keys())\n",
        "#  \"Accuracy\"\n",
        "plt.plot(history.history['acc'])\n",
        "plt.plot(history.history['val_acc'])\n",
        "plt.title('Model Accuracy')\n",
        "plt.ylabel('Accuracy')\n",
        "plt.xlabel('Epoch')\n",
        "plt.legend(['train', 'test'], loc='upper left')\n",
        "plt.show()\n",
        "\n",
        "# \"Loss\"\n",
        "plt.plot(history.history['loss'])\n",
        "plt.plot(history.history['val_loss'])\n",
        "plt.title('Model loss')\n",
        "plt.ylabel('Loss')\n",
        "plt.xlabel('Epoch')\n",
        "plt.legend(['train', 'test'], loc='upper left')\n",
        "plt.show()"
      ],
      "metadata": {
        "id": "rYrJogas-0nO"
      },
      "execution_count": null,
      "outputs": []
    }
  ]
}